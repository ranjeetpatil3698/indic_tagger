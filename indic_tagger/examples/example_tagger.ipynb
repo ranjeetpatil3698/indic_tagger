{
 "cells": [
  {
   "cell_type": "code",
   "execution_count": 9,
   "metadata": {},
   "outputs": [
    {
     "name": "stderr",
     "output_type": "stream",
     "text": [
      "ERROR:root:Line magic function `%html` not found (But cell magic `%%html` exists, did you mean that instead?).\n"
     ]
    },
    {
     "ename": "NameError",
     "evalue": "name 'table' is not defined",
     "output_type": "error",
     "traceback": [
      "\u001b[0;31m---------------------------------------------------------------------------\u001b[0m",
      "\u001b[0;31mNameError\u001b[0m                                 Traceback (most recent call last)",
      "\u001b[0;32m<ipython-input-9-b020126165fe>\u001b[0m in \u001b[0;36m<module>\u001b[0;34m()\u001b[0m\n\u001b[1;32m      6\u001b[0m \u001b[0;34m\u001b[0m\u001b[0m\n\u001b[1;32m      7\u001b[0m \u001b[0mresults\u001b[0m \u001b[0;34m=\u001b[0m \u001b[0;34m[\u001b[0m\u001b[0;34m[\u001b[0m\u001b[0;34m\"Lang\"\u001b[0m\u001b[0;34m,\u001b[0m \u001b[0;34m\"# Sents (Train)\"\u001b[0m\u001b[0;34m,\u001b[0m \u001b[0;34m\"CRF\"\u001b[0m\u001b[0;34m]\u001b[0m\u001b[0;34m,\u001b[0m \u001b[0;34m[\u001b[0m\u001b[0;34m\"tel\"\u001b[0m\u001b[0;34m,\u001b[0m \u001b[0;34m\"26897\"\u001b[0m\u001b[0;34m,\u001b[0m \u001b[0;34m\"93%\"\u001b[0m\u001b[0;34m]\u001b[0m\u001b[0;34m]\u001b[0m\u001b[0;34m\u001b[0m\u001b[0m\n\u001b[0;32m----> 8\u001b[0;31m \u001b[0mtable\u001b[0m\u001b[0;34m(\u001b[0m\u001b[0mresults\u001b[0m\u001b[0;34m)\u001b[0m\u001b[0;34m\u001b[0m\u001b[0m\n\u001b[0m",
      "\u001b[0;31mNameError\u001b[0m: name 'table' is not defined"
     ]
    }
   ],
   "source": [
    "%html\n",
    "# Data Satistics and Model performances\n",
    "\n",
    "## Pos Results (F1 macro)\n",
    "\n",
    "\n",
    "results = [[\"Lang\", \"# Sents (Train)\", \"CRF\"], [\"tel\", \"26897\", \"93%\"]]\n",
    "table(results)\n"
   ]
  },
  {
   "cell_type": "markdown",
   "metadata": {},
   "source": [
    "# Initialize the code\n",
    "\n",
    "Let's initialize the arguments with one of the values for the following code\n",
    "\n",
    "model_type : \"CRF\", \"HMM\" \n",
    "\n",
    "language   : \"tel\", \"hin\", \"pun\", \"mar\", \"ben\", \"urd\", \"mal\", \"kan\"\n",
    "\n",
    "encoding   : \"utf\"\n",
    "\n",
    "data_format: \"conll\", \"ssf\", \"tnt\"\n",
    "\n",
    "tag_type   : \"pos\", \"chunk\", \"parse\""
   ]
  },
  {
   "cell_type": "code",
   "execution_count": 6,
   "metadata": {
    "collapsed": true
   },
   "outputs": [],
   "source": [
    "import sys,os.path as path\n",
    "sys.path.append(path.dirname(path.abspath(\"./\")))\n",
    "\n",
    "import tagger.src.data_reader as data_reader\n",
    "import tagger.src.generate_features as generate_features\n",
    "import tagger.utils.writer as data_writer\n",
    "import argparse\n",
    "import logging\n",
    "import pickle\n",
    "import numpy as np\n",
    "from time import time\n",
    "from sklearn.model_selection import train_test_split\n",
    "from tagger.src.algorithm.CRF import CRF\n",
    "\n",
    "curr_dir = path.dirname(path.abspath(\"./\"))\n",
    "model_type = \"CRF\"\n",
    "language = \"tel\"\n",
    "encoding = \"utf\"\n",
    "data_format = \"conll\"\n",
    "tag_type = \"pos\"\n"
   ]
  },
  {
   "cell_type": "code",
   "execution_count": 4,
   "metadata": {},
   "outputs": [
    {
     "name": "stdout",
     "output_type": "stream",
     "text": [
      "Start Training#\n",
      "Tagger model type: CRF\n",
      "conll\n",
      "No. of words: 347744\n",
      "No. of sents: 29886\n",
      "('Train data size:', 26897, 26897)\n",
      "('Test data size:', 2989, 2989)\n"
     ]
    }
   ],
   "source": [
    "print('Start Training#')\n",
    "print('Tagger model type: %s' % (model_type))\n",
    "data_path = \"%s/data/train/%s/train.%s.%s\" % (curr_dir, language, encoding, data_format)\n",
    "\n",
    "print(data_format)\n",
    "data_sents = data_reader.load_data(data_format, data_path, language)\n",
    "\n",
    "no_words = sum(len(sent) for sent in data_sents)\n",
    "print(\"No. of words: %d\" % (no_words))\n",
    "print(\"No. of sents: %d\" % (len(data_sents)))\n",
    "\n",
    "X_data = [ generate_features.sent2features(s, tag_type, model_type) for s in data_sents ]\n",
    "y_data = [ generate_features.sent2labels(s, tag_type) for s in data_sents ]\n",
    "\n",
    "X_train, X_test, y_train, y_test = train_test_split(X_data, y_data, test_size=0.10, random_state=42)\n",
    "\n",
    "print('Train data size:', len(X_train), len(y_train))\n",
    "print('Test data size:', len(X_test), len(y_test))"
   ]
  },
  {
   "cell_type": "code",
   "execution_count": 5,
   "metadata": {},
   "outputs": [
    {
     "name": "stdout",
     "output_type": "stream",
     "text": [
      "[[u'SYM', u'SYM', u'RB', u'NN', u'NN', u'VM', u'VM', u'SYM', u'UT', u'UT', u'NN', u'NN', u'VM', u'VM', u'NST', u'NST', u'VM', u'SYM'], [u'UT', u'UT', u'NN', u'NN', u'VM', u'VM', u'SYM'], [u'NN', u'NN', u'NN', u'NN', u'VM', u'VM', u'NN', u'NN', u'NN', u'DEM', u'DEM', u'NN', u'VM', u'VM', u'SYM'], [u'VM', u'VM', u'UT', u'UT', u'NNP', u'NNP', u'VM', u'VM', u'SYM'], [u'PRP', u'PRP', u'NN', u'NN', u'VM', u'VM', u'SYM']]\n"
     ]
    },
    {
     "ename": "TypeError",
     "evalue": "'NoneType' object is not iterable",
     "output_type": "error",
     "traceback": [
      "\u001b[0;31m---------------------------------------------------------------------------\u001b[0m",
      "\u001b[0;31mTypeError\u001b[0m                                 Traceback (most recent call last)",
      "\u001b[0;32m<ipython-input-5-3fa8ef441144>\u001b[0m in \u001b[0;36m<module>\u001b[0;34m()\u001b[0m\n\u001b[1;32m      5\u001b[0m \u001b[0;32mprint\u001b[0m\u001b[0;34m(\u001b[0m\u001b[0my_train\u001b[0m\u001b[0;34m[\u001b[0m\u001b[0;36m0\u001b[0m\u001b[0;34m:\u001b[0m\u001b[0;36m5\u001b[0m\u001b[0;34m]\u001b[0m\u001b[0;34m)\u001b[0m\u001b[0;34m\u001b[0m\u001b[0m\n\u001b[1;32m      6\u001b[0m \u001b[0mtagger\u001b[0m \u001b[0;34m=\u001b[0m \u001b[0mCRF\u001b[0m\u001b[0;34m(\u001b[0m\u001b[0mmodel_path\u001b[0m\u001b[0;34m)\u001b[0m\u001b[0;34m\u001b[0m\u001b[0m\n\u001b[0;32m----> 7\u001b[0;31m \u001b[0mtagger\u001b[0m\u001b[0;34m.\u001b[0m\u001b[0mtrain\u001b[0m\u001b[0;34m(\u001b[0m\u001b[0mX_train\u001b[0m\u001b[0;34m,\u001b[0m \u001b[0my_train\u001b[0m\u001b[0;34m)\u001b[0m\u001b[0;34m\u001b[0m\u001b[0m\n\u001b[0m\u001b[1;32m      8\u001b[0m \u001b[0mtagger\u001b[0m\u001b[0;34m.\u001b[0m\u001b[0mload_model\u001b[0m\u001b[0;34m(\u001b[0m\u001b[0;34m)\u001b[0m\u001b[0;34m\u001b[0m\u001b[0m\n\u001b[1;32m      9\u001b[0m \u001b[0mtagger\u001b[0m\u001b[0;34m.\u001b[0m\u001b[0mtest\u001b[0m\u001b[0;34m(\u001b[0m\u001b[0mX_test\u001b[0m\u001b[0;34m,\u001b[0m \u001b[0my_test\u001b[0m\u001b[0;34m)\u001b[0m\u001b[0;34m\u001b[0m\u001b[0m\n",
      "\u001b[0;32m/Users/avinesh/workspace/tools/indic_tagger/tagger/src/algorithm/CRF.pyc\u001b[0m in \u001b[0;36mtrain\u001b[0;34m(self, X_train, y_train)\u001b[0m\n\u001b[1;32m     18\u001b[0m         \u001b[0;32mdef\u001b[0m \u001b[0mtrain\u001b[0m\u001b[0;34m(\u001b[0m\u001b[0mself\u001b[0m\u001b[0;34m,\u001b[0m \u001b[0mX_train\u001b[0m\u001b[0;34m,\u001b[0m \u001b[0my_train\u001b[0m\u001b[0;34m)\u001b[0m\u001b[0;34m:\u001b[0m\u001b[0;34m\u001b[0m\u001b[0m\n\u001b[1;32m     19\u001b[0m                 \u001b[0;32mfor\u001b[0m \u001b[0mxseq\u001b[0m\u001b[0;34m,\u001b[0m \u001b[0myseq\u001b[0m \u001b[0;32min\u001b[0m \u001b[0mzip\u001b[0m\u001b[0;34m(\u001b[0m\u001b[0mX_train\u001b[0m\u001b[0;34m,\u001b[0m \u001b[0my_train\u001b[0m\u001b[0;34m)\u001b[0m\u001b[0;34m:\u001b[0m\u001b[0;34m\u001b[0m\u001b[0m\n\u001b[0;32m---> 20\u001b[0;31m                         \u001b[0mself\u001b[0m\u001b[0;34m.\u001b[0m\u001b[0mtrainer\u001b[0m\u001b[0;34m.\u001b[0m\u001b[0mappend\u001b[0m\u001b[0;34m(\u001b[0m\u001b[0mxseq\u001b[0m\u001b[0;34m,\u001b[0m \u001b[0myseq\u001b[0m\u001b[0;34m)\u001b[0m\u001b[0;34m\u001b[0m\u001b[0m\n\u001b[0m\u001b[1;32m     21\u001b[0m                 \u001b[0mself\u001b[0m\u001b[0;34m.\u001b[0m\u001b[0mtrainer\u001b[0m\u001b[0;34m.\u001b[0m\u001b[0mtrain\u001b[0m\u001b[0;34m(\u001b[0m\u001b[0mself\u001b[0m\u001b[0;34m.\u001b[0m\u001b[0mmodel_path\u001b[0m\u001b[0;34m)\u001b[0m\u001b[0;34m\u001b[0m\u001b[0m\n\u001b[1;32m     22\u001b[0m \u001b[0;34m\u001b[0m\u001b[0m\n",
      "\u001b[0;32mpycrfsuite/_pycrfsuite.pyx\u001b[0m in \u001b[0;36mpycrfsuite._pycrfsuite.BaseTrainer.append\u001b[0;34m()\u001b[0m\n",
      "\u001b[0;32m/Users/avinesh/anaconda/lib/python2.7/site-packages/pycrfsuite/_pycrfsuite.so\u001b[0m in \u001b[0;36mvector.from_py.__pyx_convert_vector_from_py_std_3a__3a_string\u001b[0;34m()\u001b[0m\n",
      "\u001b[0;32mpycrfsuite/_pycrfsuite.pyx\u001b[0m in \u001b[0;36mpycrfsuite._pycrfsuite.to_seq\u001b[0;34m()\u001b[0m\n",
      "\u001b[0;31mTypeError\u001b[0m: 'NoneType' object is not iterable"
     ]
    }
   ],
   "source": [
    "\"\"\"Loading CRF_tagger\"\"\"\n",
    "\n",
    "model_path = \"%s/models/%s/%s.%s.%s.model\" % (curr_dir, language, model_type, tag_type, encoding)    \n",
    "\n",
    "print(y_train[0:5])\n",
    "\n",
    "tagger = CRF(model_path)\n",
    "tagger.train(X_train, y_train)\n",
    "tagger.load_model()\n",
    "tagger.test(X_test, y_test)"
   ]
  }
 ],
 "metadata": {
  "kernelspec": {
   "display_name": "Python 2",
   "language": "python",
   "name": "python2"
  },
  "language_info": {
   "codemirror_mode": {
    "name": "ipython",
    "version": 2
   },
   "file_extension": ".py",
   "mimetype": "text/x-python",
   "name": "python",
   "nbconvert_exporter": "python",
   "pygments_lexer": "ipython2",
   "version": "2.7.13"
  }
 },
 "nbformat": 4,
 "nbformat_minor": 2
}
